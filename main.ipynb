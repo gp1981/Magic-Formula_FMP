{
 "cells": [
  {
   "cell_type": "markdown",
   "metadata": {},
   "source": [
    "**Author**: gp1981\n",
    "\n",
    "**Purpose**: Calculate Earnings Yield (EY) and Return on Capital (ROC) for stocks and rank them as detailed in the \"The little book that still beats the market\" of J. Greenblatt.\n",
    "\n",
    "***Disclaimer***: This code is provided as-is without any warranty.\n",
    "\n",
    "Basic instructions to run the code:\n",
    "\n",
    "1.   Create in VS code virtual environment venv\n",
    "\n",
    "2.  /.venv/Scripts/activate.bat (for Mac OS)\n",
    "\n",
    "3.  python -m pip install python-dotenv (for API Key management). Similarly for pandas, matplotlib\n",
    "\n",
    "4.  create a file .env (starting with dot .) in the root of your project folder\n",
    "\n",
    "5.  open the .env file in VS code and include API_KEY=your API Key from financialmodellingprep.com\n"
   ]
  },
  {
   "cell_type": "markdown",
   "metadata": {},
   "source": [
    "---------------------------------------------------------"
   ]
  },
  {
   "cell_type": "code",
   "execution_count": 1,
   "metadata": {},
   "outputs": [],
   "source": [
    "import os\n",
    "from dotenv import load_dotenv\n",
    "import pandas as pd\n",
    "import matplotlib as plt\n",
    "\n",
    "\n",
    "# Load the API key from .env\n",
    "load_dotenv()\n",
    "API_KEY = os.environ.get('API_KEY')\n",
    "\n",
    "\n",
    "# Load repository functions\n",
    "from Functions.analysis import calculate_ey, calculate_roc, rank_stocks\n",
    "from Functions.api import *"
   ]
  },
  {
   "cell_type": "markdown",
   "metadata": {},
   "source": [
    "------------------------------------------------------------------------\n",
    "\n",
    "The following functions to fetch the stock list and financial data based on financialmodellingprep API via the functions:\n",
    "\n",
    "-   `fetch_stock_list()`\n",
    "\n",
    "-   `fetch_financial_statement_symbol_list()`\n",
    "\n",
    "The symbol list from Financialmodelingprep is downloaded and merged with the list of symbols that have financial reports (e.g. stock of a company)\n",
    "\n",
    "Finally we filter the symbols of companies that are not traded in US.\n",
    "------------------------------------------------------------------------\n",
    "\n"
   ]
  },
  {
   "cell_type": "code",
   "execution_count": 3,
   "metadata": {},
   "outputs": [
    {
     "name": "stderr",
     "output_type": "stream",
     "text": [
      "Fetching and Filtering Data: 100%|██████████| 100/100 [01:02<00:00,  1.60it/s]\n"
     ]
    }
   ],
   "source": [
    "# Fetch stock list and financial statement symbol list\n",
    "stock_list_data = fetch_stock_list(API_KEY)\n",
    "symbol_list_data = fetch_financial_statement_symbol_list(API_KEY)\n",
    "\n",
    "# Rename the column in symbol_list_data\n",
    "symbol_list_data.rename(columns={0: \"symbol\"}, inplace=True)\n",
    "\n",
    "# Merge stock data with financial statement symbol list\n",
    "merged_data = pd.merge(stock_list_data, symbol_list_data, on=\"symbol\")\n",
    "\n",
    "# Filter stocks based on exchangeShortName\n",
    "filtered_data = merged_data[merged_data[\"exchangeShortName\"].isin([\"ASX\", \"ETF\", \"NASDAQ\", \"NYSE\", \"OTC\"])]\n",
    "\n",
    "# Sample of 100 symbols\n",
    "filtered_data = filtered_data.sample(n=100, random_state=42)\n",
    "\n",
    "# Fetch, filter, and merge profile data \n",
    "filtered_and_merged_data = filter_and_merge_data(filtered_data, API_KEY)\n"
   ]
  },
  {
   "cell_type": "code",
   "execution_count": null,
   "metadata": {},
   "outputs": [],
   "source": [
    "# Print size and data type information of the filtered_data dataframe\n",
    "print(\"Filtered Data Information:\")\n",
    "print(\"Number of rows:\", len(filtered_and_merged_data))\n",
    "print(\"Number of columns:\", len(filtered_and_merged_data.columns))\n",
    "print(\"\\nData types:\")\n",
    "print(filtered_and_merged_data.dtypes)"
   ]
  },
  {
   "cell_type": "markdown",
   "metadata": {},
   "source": [
    "------------------------------------------------------------------------\n",
    "\n",
    "The next steps to perform the ranking is to download the financial data of the companies. Next section is to download the:\n",
    "\n",
    "-   Income Statement\n",
    "\n",
    "-   Balance Sheet\n",
    "\n",
    "-   Cash Flow.\n",
    "\n",
    "*Note: for the purpose of the magic formula the cash flow statement is not required. Nonetheless this is downloaded for additional evaluations of the financials.*\n",
    "\n",
    "------------------------------------------------------------------------"
   ]
  },
  {
   "cell_type": "code",
   "execution_count": 9,
   "metadata": {},
   "outputs": [],
   "source": [
    "# Extract the symbol list\n",
    "symbol_list = filtered_and_merged_data['symbol']\n",
    "\n",
    "# Download and aggreggate all financial statements\n",
    "income_statement_df, balance_sheet_df, cash_flow_df = fetch_all_financial_statements(API_KEY, symbol_list)\n",
    "\n",
    "# Merge filtered stock data with financial statement symbol list\n",
    "income_statement_df = pd.merge(filtered_and_merged_data, income_statement_df, on=\"symbol\")\n",
    "balance_sheet_df = pd.merge(filtered_and_merged_data, balance_sheet_df, on=\"symbol\")\n",
    "cash_flow_df = pd.merge(filtered_and_merged_data, cash_flow_df, on=\"symbol\")"
   ]
  },
  {
   "cell_type": "markdown",
   "metadata": {},
   "source": [
    "---------------------------------------------------------------------------"
   ]
  },
  {
   "cell_type": "code",
   "execution_count": 17,
   "metadata": {},
   "outputs": [],
   "source": [
    "# Convert column names to a dataframe or series\n",
    "income_statement_columns = pd.DataFrame({'ColumnNames': income_statement_df.columns})\n",
    "balance_sheet_columns = pd.DataFrame({'ColumnNames': balance_sheet_df.columns})\n",
    "cash_flow_columns = pd.DataFrame({'ColumnNames': cash_flow_df.columns})\n",
    "\n",
    "# Save the dataframes to CSV files\n",
    "income_statement_columns.to_csv('columns_income_statement.csv', index=False)\n",
    "balance_sheet_columns.to_csv('columns_balance_sheet.csv', index=False)\n",
    "cash_flow_columns.to_csv('columns_cash_flow.csv', index=False)\n",
    "\n"
   ]
  }
 ],
 "metadata": {
  "kernelspec": {
   "display_name": ".venv",
   "language": "python",
   "name": "python3"
  },
  "language_info": {
   "codemirror_mode": {
    "name": "ipython",
    "version": 3
   },
   "file_extension": ".py",
   "mimetype": "text/x-python",
   "name": "python",
   "nbconvert_exporter": "python",
   "pygments_lexer": "ipython3",
   "version": "3.11.4"
  },
  "orig_nbformat": 4
 },
 "nbformat": 4,
 "nbformat_minor": 2
}
